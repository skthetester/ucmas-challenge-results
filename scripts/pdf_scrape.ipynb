{
 "cells": [
  {
   "cell_type": "code",
   "execution_count": null,
   "metadata": {},
   "outputs": [],
   "source": [
    "import tabula.io as tbla\n",
    "import os\n",
    "\n",
    "project_path = os.path.dirname('')\n",
    "data_path = project_path + \"../data/\"\n",
    "df = tbla.read_pdf(data_path + \"canada_national_2023.pdf\", pages='all')\n",
    "tbla.convert_into(data_path + \"canada_national_2023.pdf\", data_path + \"canada_national_2023.csv\", output_format=\"csv\", pages='all')\n",
    "print(df)"
   ]
  }
 ],
 "metadata": {
  "kernelspec": {
   "display_name": "Python 3",
   "language": "python",
   "name": "python3"
  },
  "language_info": {
   "codemirror_mode": {
    "name": "ipython",
    "version": 3
   },
   "file_extension": ".py",
   "mimetype": "text/x-python",
   "name": "python",
   "nbconvert_exporter": "python",
   "pygments_lexer": "ipython3",
   "version": "3.11.0"
  },
  "orig_nbformat": 4
 },
 "nbformat": 4,
 "nbformat_minor": 2
}
