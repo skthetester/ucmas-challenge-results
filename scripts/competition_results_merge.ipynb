{
 "cells": [
  {
   "cell_type": "code",
   "execution_count": null,
   "metadata": {},
   "outputs": [],
   "source": [
    "import pandas as pd\n",
    "import os\n",
    "\n",
    "project_path = os.path.dirname('')\n",
    "data_path = project_path + \"../data/\"\n",
    "reports_path = project_path + \"../reports/\"\n",
    "df_ntl = pd.read_csv(data_path + \"canada_national_2023.csv\")\n",
    "df_intl = pd.read_csv(data_path + \"winners_visual.csv\", index_col=0)\n",
    "print(\"Records in NATIONAL =\", len(df_intl))\n",
    "# print(df_ntl)\n",
    "\n",
    "df_intl = df_intl.query(\" Country == 'CANADA' \")\n",
    "print(\"Records in INTERNATIONAL =\", len(df_intl))\n",
    "# df_intl"
   ]
  },
  {
   "cell_type": "code",
   "execution_count": null,
   "metadata": {},
   "outputs": [],
   "source": [
    "# clean data\n",
    "df_ntl['Student Name'] = df_ntl['Student Name'].str.lower()\n",
    "df_ntl['Placing_Num'] = df_ntl['Placing'].str.replace(\"Grand Champion\", \"1\").replace(\"Champion\", \"2\") \\\n",
    "    .replace(\"1st Runner up\", \"3\").replace(\"2nd Runner up\", \"4\").replace(\"3rd Runner up\", \"5\") \\\n",
    "        .replace(\"4th Runner up\", \"6\").replace(\"5th Runner up\", \"7\").replace(\"Merit\", \"8\")\n",
    "# df_ntl['xCategory_National'] = df_ntl['Category'].str.slice(0,1)\n",
    "\n",
    "df_intl['Student Name'] = df_intl['Student Name'].str.lower()\n",
    "df_intl['Placing_Num'] = df_intl['Placing'].str.replace(\"Grand Champion\", \"1\").replace(\"Champion\", \"2\") \\\n",
    "    .replace(\"1st Runner Up\", \"3\").replace(\"2nd Runner Up\", \"4\").replace(\"3rd Runner Up\", \"5\")"
   ]
  },
  {
   "cell_type": "code",
   "execution_count": null,
   "metadata": {},
   "outputs": [],
   "source": [
    "# merge national and international data\n",
    "df_merged = pd.merge(df_ntl, df_intl, \n",
    "              on=['Student Name'],\n",
    "              suffixes=('_National', '_International'))\n",
    "df_merged.to_csv(data_path + \"canada_winners_merged.csv\")\n",
    "print(\"Matched Records =\", len(df_merged))"
   ]
  },
  {
   "cell_type": "code",
   "execution_count": null,
   "metadata": {},
   "outputs": [],
   "source": [
    "# find those who performed better in international (excl. 3rd runner up)\n",
    "df_change = df_merged.query(\" Placing_International != '3rd Runner Up' \")\n",
    "\n",
    "df_better = df_change.query(\" Placing_Num_National > Placing_Num_International \")\n",
    "print(\"Performed Better =\", len(df_better))\n",
    "df_better.to_csv(reports_path+\"performed_better.csv\")\n",
    "\n",
    "df_equal = df_change.query(\" Placing_Num_National == Placing_Num_International \")\n",
    "print(\"Performed Same =\", len(df_equal))\n",
    "df_equal.to_csv(reports_path+\"performed_equal.csv\")\n",
    "\n",
    "df_worse = df_change.query(\" Placing_Num_National < Placing_Num_International \")\n",
    "print(\"Performed Worse =\", len(df_worse))\n",
    "df_worse.to_csv(reports_path+\"performed_worse.csv\")"
   ]
  },
  {
   "cell_type": "code",
   "execution_count": null,
   "metadata": {},
   "outputs": [],
   "source": [
    "# big changes\n",
    "df_merged['change'] = df_merged['Placing_Num_National'].astype(int) - df_merged['Placing_Num_International'].astype(int)\n",
    "df_big_change = df_merged.query(\" Placing_International != '3rd Runner Up' \")\n",
    "df_big_change = df_big_change.query(\" change > 1 \").sort_values('change', ascending=False)\n",
    "# df_big_change = df_merged.sort_values('change', ascending=False)\n",
    "df_big_change.to_csv(reports_path+\"performance_change.csv\")\n",
    "print(\"Big change # moved >1 placing = \", len(df_big_change))"
   ]
  }
 ],
 "metadata": {
  "kernelspec": {
   "display_name": "Python 3",
   "language": "python",
   "name": "python3"
  },
  "language_info": {
   "codemirror_mode": {
    "name": "ipython",
    "version": 3
   },
   "file_extension": ".py",
   "mimetype": "text/x-python",
   "name": "python",
   "nbconvert_exporter": "python",
   "pygments_lexer": "ipython3",
   "version": "3.11.0"
  },
  "orig_nbformat": 4
 },
 "nbformat": 4,
 "nbformat_minor": 2
}
