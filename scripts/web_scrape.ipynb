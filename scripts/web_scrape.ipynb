{
 "cells": [
  {
   "cell_type": "code",
   "execution_count": null,
   "metadata": {},
   "outputs": [],
   "source": [
    "import requests\n",
    "\n",
    "base_url = 'https://ucmaschallenge.com/#cati'\n",
    "# url_list = [ '#cata1', '#cata2', '#catb', '#catc', '#catd', '#cate', '#catf', '#catg', '#cath', '#cati']\n",
    "custom_headers = {'User-Agent': 'Mozilla/5.0 (X11; Ubuntu; Linux x86_64; rv:109.0) Gecko/20100101 Firefox/116.0'}\n"
   ]
  },
  {
   "cell_type": "code",
   "execution_count": null,
   "metadata": {},
   "outputs": [],
   "source": [
    "# html_page = requests.get('https://ucmaschallenge.com/#cati', headers=custom_headers)\n",
    "# print(html_page.text)"
   ]
  },
  {
   "cell_type": "code",
   "execution_count": null,
   "metadata": {},
   "outputs": [],
   "source": [
    "from bs4 import BeautifulSoup\n",
    "\n",
    "data = []\n",
    "list_header = ['Student Name', 'Category', 'Placing', 'Country']\n",
    "\n",
    "html_page = requests.get(base_url, headers=custom_headers)\n",
    "#print(html_page.text)\n",
    "soup = BeautifulSoup(html_page.text, \"html.parser\")\n",
    "table_count = len(soup.find_all(\"table\"))\n",
    "print(\"Number of tables found: \", table_count)\n",
    "\n",
    "for tbl in range(0, table_count-1):\n",
    "    html_data = soup.find_all(\"table\")[tbl].find_all(\"tr\")[1:]\n",
    "\n",
    "    for element in html_data:\n",
    "        sub_data = []\n",
    "        for sub_element in element:\n",
    "            try:\n",
    "                if '\\n' not in sub_element:\n",
    "                    if 'Category' in sub_element.get_text():\n",
    "                        sub_data.append(sub_element.get_text().replace('Category', '').lstrip())\n",
    "                    else:\n",
    "                        sub_data.append(sub_element.get_text().lstrip())\n",
    "            except:\n",
    "                continue\n",
    "        data.append(sub_data)\n",
    "\n",
    "print(list_header)\n",
    "print(data)"
   ]
  },
  {
   "cell_type": "code",
   "execution_count": null,
   "metadata": {},
   "outputs": [],
   "source": [
    "import pandas as pd\n",
    "import os\n",
    "\n",
    "df = pd.DataFrame(data, columns=list_header)\n",
    "df.to_csv(os.path.dirname('') + \"../data/winners_visual.csv\", index_label='Index')"
   ]
  }
 ],
 "metadata": {
  "kernelspec": {
   "display_name": "Python 3",
   "language": "python",
   "name": "python3"
  },
  "language_info": {
   "codemirror_mode": {
    "name": "ipython",
    "version": 3
   },
   "file_extension": ".py",
   "mimetype": "text/x-python",
   "name": "python",
   "nbconvert_exporter": "python",
   "pygments_lexer": "ipython3",
   "version": "3.11.0"
  },
  "orig_nbformat": 4
 },
 "nbformat": 4,
 "nbformat_minor": 2
}
