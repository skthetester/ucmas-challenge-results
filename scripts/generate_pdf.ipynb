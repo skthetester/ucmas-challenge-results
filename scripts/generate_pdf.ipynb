{
 "cells": [
  {
   "cell_type": "code",
   "execution_count": 9,
   "metadata": {},
   "outputs": [],
   "source": [
    "import pandas as pd\n",
    "import pdfkit\n",
    "import os\n",
    "\n",
    "project_path = os.path.dirname('')\n",
    "data_path = project_path + \"../data/\"\n",
    "reports_path = project_path + \"../reports/\"\n",
    "wkhtmltox_path = project_path + \"../wkhtmltox/bin/\"\n"
   ]
  },
  {
   "cell_type": "code",
   "execution_count": 11,
   "metadata": {},
   "outputs": [
    {
     "data": {
      "text/plain": [
       "True"
      ]
     },
     "execution_count": 11,
     "metadata": {},
     "output_type": "execute_result"
    }
   ],
   "source": [
    "# from csv to pdf\n",
    "file_name = 'winners_visual'\n",
    "df = pd.read_csv(data_path + file_name + '.csv')\n",
    "html_table = df.to_html(index=False, columns=['Student Name', 'Category', 'Placing', 'Country'])\n",
    "\n",
    "config = pdfkit.configuration(wkhtmltopdf = r\"D:\\\\Code\\\\python-workspace\\\\ucmas-challenge-results\\\\wkhtmltox\\\\bin\\\\wkhtmltopdf.exe\")  \n",
    "pdfkit.from_string(html_table, reports_path + file_name + '.pdf', configuration=config)"
   ]
  },
  {
   "cell_type": "code",
   "execution_count": 4,
   "metadata": {},
   "outputs": [
    {
     "data": {
      "text/plain": [
       "True"
      ]
     },
     "execution_count": 4,
     "metadata": {},
     "output_type": "execute_result"
    }
   ],
   "source": [
    "# from url to pdf\n",
    "base_url = 'https://ucmaschallenge.com/#cati'\n",
    "config = pdfkit.configuration(wkhtmltopdf = r\"D:\\\\Code\\\\python-workspace\\\\ucmas-challenge-results\\\\wkhtmltox\\\\bin\\\\wkhtmltopdf.exe\")  \n",
    "pdfkit.from_url(base_url, os.path.dirname('')+\"../reports/winners.pdf\", configuration=config )"
   ]
  }
 ],
 "metadata": {
  "kernelspec": {
   "display_name": "Python 3",
   "language": "python",
   "name": "python3"
  },
  "language_info": {
   "codemirror_mode": {
    "name": "ipython",
    "version": 3
   },
   "file_extension": ".py",
   "mimetype": "text/x-python",
   "name": "python",
   "nbconvert_exporter": "python",
   "pygments_lexer": "ipython3",
   "version": "3.11.0"
  },
  "orig_nbformat": 4
 },
 "nbformat": 4,
 "nbformat_minor": 2
}
